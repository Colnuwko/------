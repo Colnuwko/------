{
 "cells": [
  {
   "cell_type": "code",
   "execution_count": 38,
   "metadata": {},
   "outputs": [],
   "source": [
    "import math\n",
    "import numpy as np\n",
    "import matplotlib.pyplot as plt\n",
    "import scipy as sp\n",
    "from scipy import integrate"
   ]
  },
  {
   "attachments": {},
   "cell_type": "markdown",
   "metadata": {},
   "source": [
    "Лабораторная работа №1. Питон для математиков. Вариант 6."
   ]
  },
  {
   "attachments": {},
   "cell_type": "markdown",
   "metadata": {},
   "source": [
    "1. Создаем единичную матрицу и матрицу из вещественных единиц"
   ]
  },
  {
   "cell_type": "code",
   "execution_count": 39,
   "metadata": {},
   "outputs": [
    {
     "name": "stdout",
     "output_type": "stream",
     "text": [
      "[[1. 1. 1. 1. 1. 1. 1. 1. 1. 1.]\n",
      " [1. 1. 1. 1. 1. 1. 1. 1. 1. 1.]\n",
      " [1. 1. 1. 1. 1. 1. 1. 1. 1. 1.]\n",
      " [1. 1. 1. 1. 1. 1. 1. 1. 1. 1.]\n",
      " [1. 1. 1. 1. 1. 1. 1. 1. 1. 1.]\n",
      " [1. 1. 1. 1. 1. 1. 1. 1. 1. 1.]\n",
      " [1. 1. 1. 1. 1. 1. 1. 1. 1. 1.]\n",
      " [1. 1. 1. 1. 1. 1. 1. 1. 1. 1.]\n",
      " [1. 1. 1. 1. 1. 1. 1. 1. 1. 1.]\n",
      " [1. 1. 1. 1. 1. 1. 1. 1. 1. 1.]]\n",
      "[[1 0 0 0 0 0 0 0 0 0]\n",
      " [0 1 0 0 0 0 0 0 0 0]\n",
      " [0 0 1 0 0 0 0 0 0 0]\n",
      " [0 0 0 1 0 0 0 0 0 0]\n",
      " [0 0 0 0 1 0 0 0 0 0]\n",
      " [0 0 0 0 0 1 0 0 0 0]\n",
      " [0 0 0 0 0 0 1 0 0 0]\n",
      " [0 0 0 0 0 0 0 1 0 0]\n",
      " [0 0 0 0 0 0 0 0 1 0]\n",
      " [0 0 0 0 0 0 0 0 0 1]]\n"
     ]
    }
   ],
   "source": [
    "A = np.ones((10, 10), dtype=float)\n",
    "print(A)\n",
    "B = np.identity(10, dtype=int)\n",
    "print(B)"
   ]
  },
  {
   "attachments": {},
   "cell_type": "markdown",
   "metadata": {},
   "source": [
    "2. Создаем матрицу и вычисляем ее определитель"
   ]
  },
  {
   "cell_type": "code",
   "execution_count": 40,
   "metadata": {},
   "outputs": [
    {
     "name": "stdout",
     "output_type": "stream",
     "text": [
      "[[2 1 3 6]\n",
      " [4 1 3 3]\n",
      " [5 2 4 1]\n",
      " [5 1 2 2]]\n",
      "21.0\n"
     ]
    }
   ],
   "source": [
    "matrix = a = np.array([[2, 1 , 3, 6], [4, 1, 3, 3], [5, 2, 4, 1], [5, 1, 2, 2]], int)\n",
    "print(matrix)\n",
    "print(np.linalg.det(matrix)) "
   ]
  },
  {
   "attachments": {},
   "cell_type": "markdown",
   "metadata": {},
   "source": [
    "3. Создать случайную матрицу A из целых чисел из отрезка\n",
    "[-3,5] размера 4x4. Создать вектор-столбец B подходящего размера.\n",
    "Решить систему AX = B."
   ]
  },
  {
   "cell_type": "code",
   "execution_count": 41,
   "metadata": {},
   "outputs": [
    {
     "name": "stdout",
     "output_type": "stream",
     "text": [
      "Рандомная матрица 4x4\n",
      " [[ 0  4  3 -3]\n",
      " [ 1  0  4  2]\n",
      " [ 2  0 -1 -2]\n",
      " [ 1 -3  3 -1]]\n",
      "Рандомный вектор столбец\n",
      " [[4]\n",
      " [9]\n",
      " [6]\n",
      " [3]]\n",
      "Наш ответ\n",
      " [[4.17808219]\n",
      " [0.95890411]\n",
      " [0.82191781]\n",
      " [0.76712329]]\n",
      "Сравниваем с нашим Вектор-столбцом\n",
      " [[4.]\n",
      " [9.]\n",
      " [6.]\n",
      " [3.]]\n"
     ]
    }
   ],
   "source": [
    "matrix = np.random.randint(-3, 6, (4, 4))\n",
    "# выбиираем отрезок от -3 до 6 так как функция рассматривает отрезок [-3, 6) \n",
    "print(\"Рандомная матрица 4x4\\n\", matrix)\n",
    "\n",
    "vector_row = np.random.randint(1,10,(4, 1))\n",
    "print(\"Рандомный вектор столбец\\n\", vector_row)\n",
    "X = np.linalg.solve(matrix, vector_row)\n",
    "print(\"Наш ответ\\n\", X)\n",
    "\n",
    "check = np.dot(matrix, X)\n",
    "print(\"Сравниваем с нашим Вектор-столбцом\\n\", check)\n"
   ]
  },
  {
   "attachments": {},
   "cell_type": "markdown",
   "metadata": {},
   "source": [
    "4. Вычислить интеграл"
   ]
  },
  {
   "cell_type": "code",
   "execution_count": 42,
   "metadata": {},
   "outputs": [
    {
     "data": {
      "text/plain": [
       "(1.0471975511965976, 1.4106733152539924e-14)"
      ]
     },
     "execution_count": 42,
     "metadata": {},
     "output_type": "execute_result"
    }
   ],
   "source": [
    "integrate.quad(lambda x: 1/math.sqrt(1-pow(x,2)), -0.5, 0.5)"
   ]
  },
  {
   "attachments": {},
   "cell_type": "markdown",
   "metadata": {},
   "source": [
    "5. Вычислить интеграл"
   ]
  },
  {
   "cell_type": "code",
   "execution_count": 43,
   "metadata": {},
   "outputs": [
    {
     "name": "stderr",
     "output_type": "stream",
     "text": [
      "C:\\Users\\Солнышко\\AppData\\Local\\Temp\\ipykernel_16764\\1993177829.py:1: IntegrationWarning: The integral is probably divergent, or slowly convergent.\n",
      "  integrate.quad(lambda x: math.cos(2*x), 0, np.inf)\n"
     ]
    },
    {
     "data": {
      "text/plain": [
       "(-591.123779986244, 1044.0550404239398)"
      ]
     },
     "execution_count": 43,
     "metadata": {},
     "output_type": "execute_result"
    }
   ],
   "source": [
    "integrate.quad(lambda x: math.cos(2*x), 0, np.inf)"
   ]
  },
  {
   "attachments": {},
   "cell_type": "markdown",
   "metadata": {},
   "source": [
    "6. График"
   ]
  },
  {
   "cell_type": "code",
   "execution_count": 44,
   "metadata": {},
   "outputs": [
    {
     "data": {
      "text/plain": [
       "<matplotlib.legend.Legend at 0x1e52aa67050>"
      ]
     },
     "execution_count": 44,
     "metadata": {},
     "output_type": "execute_result"
    },
    {
     "data": {
      "image/png": "[encoded data removed]",
      "text/plain": [
       "<Figure size 640x400 with 1 Axes>"
      ]
     },
     "metadata": {},
     "output_type": "display_data"
    }
   ],
   "source": [
    "plt.figure(figsize=(8, 5), dpi=80)\n",
    "ax = plt.subplot(111)\n",
    "\n",
    "ax.xaxis.set_ticks_position('bottom')\n",
    "ax.spines['bottom'].set_position(('data', 0))\n",
    "ax.yaxis.set_ticks_position('left')\n",
    "ax.spines['left'].set_position(('data', 0))\n",
    "\n",
    "X = np.linspace(-2*np.pi, 2*np.pi, 256, endpoint=True)\n",
    "C, L = np.sin(X+np.pi/3), 2*X\n",
    "\n",
    "plt.grid(True)\n",
    "\n",
    "plt.plot(X, C, color=\"blue\", linewidth=2.5, linestyle=\"-\", label=\"Sin Function\")\n",
    "plt.plot(X, L, color=\"red\", linewidth=2.5, linestyle=\"-\", label=\"Lin Function\")\n",
    "plt.xlim(X.min() * 1.1, X.max() * 1.1)\n",
    "\n",
    "# Изменить метку на оси координат\n",
    "plt.xticks([-2*np.pi, -3*np.pi / 2, -np.pi, -np.pi / 2, 0, np.pi / 2, np.pi, 3*np.pi / 2, 2*np.pi ],\n",
    "           [r'$-2\\pi$', r'$-3\\pi/2$', r'$-\\pi$', r'$-\\pi/2$', r'$0$', r'$+\\pi/2$', r'$+\\pi$', r'$+3 \\pi/2$', r'$+ 2\\pi$' ])\n",
    "\n",
    "plt.ylim(C.min() * 1.1, C.max() * 1.1)\n",
    "plt.yticks([-2, -1, +1, +2],\n",
    "           [r'$-2$', r'$-1$', r'$+1$', r'$+2$'])\n",
    "\n",
    "#добавляем точку\n",
    "ax.scatter(x=0.5, y=1, c='black')\n",
    "\n",
    "plt.legend(loc='upper left', frameon=False)"
   ]
  },
  {
   "attachments": {},
   "cell_type": "markdown",
   "metadata": {},
   "source": [
    "вторая часть лабораторной работы"
   ]
  },
  {
   "cell_type": "code",
   "execution_count": 56,
   "metadata": {},
   "outputs": [],
   "source": [
    "import sympy\n",
    "from sympy import Symbol\n",
    "from sympy import integrate, Eq, solveset"
   ]
  },
  {
   "cell_type": "code",
   "execution_count": 46,
   "metadata": {},
   "outputs": [
    {
     "name": "stdout",
     "output_type": "stream",
     "text": [
      "-4*x*y*(x - y)/3 + (2*x + 3*y)**2\n",
      "-1.384*sqrt(7)*(1.038 - sqrt(7)) + 9*(0.692 + sqrt(7))**2\n"
     ]
    }
   ],
   "source": [
    "x = Symbol('x')\n",
    "y = Symbol('y')\n",
    "expr = (2*x+3*y)**2 - (((4*x*y)*(x-y))/3)\n",
    "v = sympy.simplify(expr)\n",
    "print(v)\n",
    "result = v.subs([(x, 1.038), (y, sympy.sqrt(7))])\n",
    "#result = sympy.factor(result)\n",
    "print(result)"
   ]
  },
  {
   "attachments": {},
   "cell_type": "markdown",
   "metadata": {},
   "source": [
    "2. Найти частную производные от выражения выше"
   ]
  },
  {
   "cell_type": "code",
   "execution_count": 47,
   "metadata": {},
   "outputs": [
    {
     "data": {
      "text/latex": [
       "$\\displaystyle - \\frac{4 x y}{3} + 8 x - \\frac{4 y \\left(x - y\\right)}{3} + 12 y$"
      ],
      "text/plain": [
       "-4*x*y/3 + 8*x - 4*y*(x - y)/3 + 12*y"
      ]
     },
     "execution_count": 47,
     "metadata": {},
     "output_type": "execute_result"
    }
   ],
   "source": [
    "sympy.diff(v, x)"
   ]
  },
  {
   "cell_type": "code",
   "execution_count": 48,
   "metadata": {},
   "outputs": [
    {
     "data": {
      "text/latex": [
       "$\\displaystyle \\frac{4 x y}{3} - \\frac{4 x \\left(x - y\\right)}{3} + 12 x + 18 y$"
      ],
      "text/plain": [
       "4*x*y/3 - 4*x*(x - y)/3 + 12*x + 18*y"
      ]
     },
     "execution_count": 48,
     "metadata": {},
     "output_type": "execute_result"
    }
   ],
   "source": [
    "sympy.diff(v, y)"
   ]
  },
  {
   "attachments": {},
   "cell_type": "markdown",
   "metadata": {},
   "source": [
    "3. Вычислите неопределенный интеграл по х от выражения\n",
    "из задания 1."
   ]
  },
  {
   "cell_type": "code",
   "execution_count": 49,
   "metadata": {},
   "outputs": [
    {
     "data": {
      "text/latex": [
       "$\\displaystyle x^{3} \\cdot \\left(\\frac{4}{3} - \\frac{4 y}{9}\\right) + x^{2} \\cdot \\left(\\frac{2 y^{2}}{3} + 6 y\\right) + 9 x y^{2}$"
      ],
      "text/plain": [
       "x**3*(4/3 - 4*y/9) + x**2*(2*y**2/3 + 6*y) + 9*x*y**2"
      ]
     },
     "execution_count": 49,
     "metadata": {},
     "output_type": "execute_result"
    }
   ],
   "source": [
    "integrate(v, x)"
   ]
  },
  {
   "attachments": {},
   "cell_type": "markdown",
   "metadata": {},
   "source": [
    "4. Подставьте в выражение из задания 1 x=2 , приравняйте\n",
    "выражение к произвольному числу и попробуйте решить\n",
    "получившееся нелинейное уравнение"
   ]
  },
  {
   "cell_type": "code",
   "execution_count": 63,
   "metadata": {},
   "outputs": [
    {
     "name": "stdout",
     "output_type": "stream",
     "text": [
      "-8*y*(2 - y)/3 + (3*y + 4)**2\n"
     ]
    },
    {
     "data": {
      "text/latex": [
       "$\\displaystyle \\left\\{- \\frac{4}{5} - \\frac{8 \\sqrt{14} i}{35}, - \\frac{4}{5} + \\frac{8 \\sqrt{14} i}{35}\\right\\}$"
      ],
      "text/plain": [
       "{-4/5 - 8*sqrt(14)*I/35, -4/5 + 8*sqrt(14)*I/35}"
      ]
     },
     "execution_count": 63,
     "metadata": {},
     "output_type": "execute_result"
    }
   ],
   "source": [
    "result = v.subs([(x, 2)])\n",
    "print(result)\n",
    "equation = Eq(result, 0)\n",
    "solveset(equation, y)"
   ]
  },
  {
   "attachments": {},
   "cell_type": "markdown",
   "metadata": {},
   "source": [
    "5. Решить систему уравнений"
   ]
  },
  {
   "cell_type": "code",
   "execution_count": 71,
   "metadata": {},
   "outputs": [
    {
     "data": {
      "text/latex": [
       "$\\displaystyle \\left\\{\\left( - \\frac{1}{7}, \\  - \\frac{2}{7}, \\  - \\frac{8}{7}\\right)\\right\\}$"
      ],
      "text/plain": [
       "{(-1/7, -2/7, -8/7)}"
      ]
     },
     "execution_count": 71,
     "metadata": {},
     "output_type": "execute_result"
    }
   ],
   "source": [
    "a, b = sympy.symbols('a b')\n",
    "a = sympy.Matrix([[1, 0, -1], [-1, -1, 3], [1, -2, -4]])\n",
    "b = sympy.Matrix([1, -3, 5])\n",
    "sympy.linsolve([a, b])"
   ]
  },
  {
   "attachments": {},
   "cell_type": "markdown",
   "metadata": {},
   "source": [
    "6. Вычислить интеграл"
   ]
  },
  {
   "cell_type": "code",
   "execution_count": 75,
   "metadata": {},
   "outputs": [
    {
     "data": {
      "text/latex": [
       "$\\displaystyle 1.0471975511966$"
      ],
      "text/plain": [
       "1.04719755119660"
      ]
     },
     "execution_count": 75,
     "metadata": {},
     "output_type": "execute_result"
    }
   ],
   "source": [
    "expr = '1/(1-x**2)**(1/2)'\n",
    "expr = sympy.sympify(expr)\n",
    "expr_int = sympy.Integral(expr, (x, -0.5, 0.5))\n",
    "\n",
    "expr_int.doit()"
   ]
  },
  {
   "attachments": {},
   "cell_type": "markdown",
   "metadata": {},
   "source": [
    "7. Вычислить интеграл"
   ]
  },
  {
   "cell_type": "code",
   "execution_count": 78,
   "metadata": {},
   "outputs": [
    {
     "data": {
      "text/latex": [
       "$\\displaystyle \\left\\langle - \\frac{1}{2}, \\frac{1}{2}\\right\\rangle$"
      ],
      "text/plain": [
       "AccumBounds(-1/2, 1/2)"
      ]
     },
     "execution_count": 78,
     "metadata": {},
     "output_type": "execute_result"
    }
   ],
   "source": [
    "expr = 'cos(2*x)'\n",
    "expr = sympy.sympify(expr)\n",
    "expr_int = sympy.Integral(expr, (x, 0, math.inf))\n",
    "expr_int.doit()"
   ]
  }
 ],
 "metadata": {
  "kernelspec": {
   "display_name": "Python 3",
   "language": "python",
   "name": "python3"
  },
  "language_info": {
   "codemirror_mode": {
    "name": "ipython",
    "version": 3
   },
   "file_extension": ".py",
   "mimetype": "text/x-python",
   "name": "python",
   "nbconvert_exporter": "python",
   "pygments_lexer": "ipython3",
   "version": "3.11.1 (tags/v3.11.1:a7a450f, Dec  6 2022, 19:58:39) [MSC v.1934 64 bit (AMD64)]"
  },
  "orig_nbformat": 4,
  "vscode": {
   "interpreter": {
    "hash": "4fe73f8a19050d6697729305b1c1f8aba98f1e3e59fb386fbde75365242656dd"
   }
  }
 },
 "nbformat": 4,
 "nbformat_minor": 2
}
