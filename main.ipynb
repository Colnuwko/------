{
 "cells": [
  {
   "cell_type": "code",
   "execution_count": 91,
   "metadata": {},
   "outputs": [],
   "source": [
    "import math\n",
    "import numpy as np\n",
    "import matplotlib.pyplot as plt\n",
    "import scipy as sp\n",
    "from scipy import integrate\n"
   ]
  },
  {
   "attachments": {},
   "cell_type": "markdown",
   "metadata": {},
   "source": [
    "Лабораторная работа №1. Питон для математиков. Вариант 6."
   ]
  },
  {
   "attachments": {},
   "cell_type": "markdown",
   "metadata": {},
   "source": [
    "1. Создаем единичную матрицу и матрицу из вещественных единиц"
   ]
  },
  {
   "cell_type": "code",
   "execution_count": 92,
   "metadata": {},
   "outputs": [
    {
     "name": "stdout",
     "output_type": "stream",
     "text": [
      "[[1. 1. 1. 1. 1. 1. 1. 1. 1. 1.]\n",
      " [1. 1. 1. 1. 1. 1. 1. 1. 1. 1.]\n",
      " [1. 1. 1. 1. 1. 1. 1. 1. 1. 1.]\n",
      " [1. 1. 1. 1. 1. 1. 1. 1. 1. 1.]\n",
      " [1. 1. 1. 1. 1. 1. 1. 1. 1. 1.]\n",
      " [1. 1. 1. 1. 1. 1. 1. 1. 1. 1.]\n",
      " [1. 1. 1. 1. 1. 1. 1. 1. 1. 1.]\n",
      " [1. 1. 1. 1. 1. 1. 1. 1. 1. 1.]\n",
      " [1. 1. 1. 1. 1. 1. 1. 1. 1. 1.]\n",
      " [1. 1. 1. 1. 1. 1. 1. 1. 1. 1.]]\n",
      "[[1 0 0 0 0 0 0 0 0 0]\n",
      " [0 1 0 0 0 0 0 0 0 0]\n",
      " [0 0 1 0 0 0 0 0 0 0]\n",
      " [0 0 0 1 0 0 0 0 0 0]\n",
      " [0 0 0 0 1 0 0 0 0 0]\n",
      " [0 0 0 0 0 1 0 0 0 0]\n",
      " [0 0 0 0 0 0 1 0 0 0]\n",
      " [0 0 0 0 0 0 0 1 0 0]\n",
      " [0 0 0 0 0 0 0 0 1 0]\n",
      " [0 0 0 0 0 0 0 0 0 1]]\n"
     ]
    }
   ],
   "source": [
    "A = np.ones((10, 10), dtype=float)\n",
    "print(A)\n",
    "B = np.identity(10, dtype=int)\n",
    "print(B)"
   ]
  },
  {
   "attachments": {},
   "cell_type": "markdown",
   "metadata": {},
   "source": [
    "2. Создаем матрицу и вычисляем ее определитель"
   ]
  },
  {
   "cell_type": "code",
   "execution_count": 93,
   "metadata": {},
   "outputs": [
    {
     "name": "stdout",
     "output_type": "stream",
     "text": [
      "[[2 1 3 6]\n",
      " [4 1 3 3]\n",
      " [5 2 4 1]\n",
      " [5 1 2 2]]\n",
      "21.0\n"
     ]
    }
   ],
   "source": [
    "matrix = a = np.array([[2, 1 , 3, 6], [4, 1, 3, 3], [5, 2, 4, 1], [5, 1, 2, 2]], int)\n",
    "print(matrix)\n",
    "print(np.linalg.det(matrix)) "
   ]
  },
  {
   "attachments": {},
   "cell_type": "markdown",
   "metadata": {},
   "source": [
    "3. Создать случайную матрицу A из целых чисел из отрезка\n",
    "[-3,5] размера 4x4. Создать вектор-столбец B подходящего размера.\n",
    "Решить систему AX = B."
   ]
  },
  {
   "cell_type": "code",
   "execution_count": 95,
   "metadata": {},
   "outputs": [
    {
     "name": "stdout",
     "output_type": "stream",
     "text": [
      "Рандомная матрица 4x4\n",
      " [[ 2 -2  3  5]\n",
      " [-2  5  4  2]\n",
      " [ 5  5  4  5]\n",
      " [-2  2 -2  5]]\n",
      "Рандомный вектор столбец\n",
      " [[8]\n",
      " [1]\n",
      " [8]\n",
      " [2]]\n",
      "Наш ответ\n",
      " [[ 0.59157895]\n",
      " [-0.32070175]\n",
      " [ 0.47017544]\n",
      " [ 0.95298246]]\n",
      "Сравниваем с нашим Вектор-столбцом\n",
      " [[8.]\n",
      " [1.]\n",
      " [8.]\n",
      " [2.]]\n"
     ]
    }
   ],
   "source": [
    "matrix = np.random.randint(-3, 6, (4, 4))\n",
    "# выбиираем отрезок от -3 до 6 так как функция рассматривает отрезок [-3, 6) \n",
    "print(\"Рандомная матрица 4x4\\n\", matrix)\n",
    "\n",
    "vector_row = np.random.randint(1,10,(4, 1))\n",
    "print(\"Рандомный вектор столбец\\n\", vector_row)\n",
    "X = np.linalg.solve(matrix, vector_row)\n",
    "print(\"Наш ответ\\n\", X)\n",
    "\n",
    "check = np.dot(matrix, X)\n",
    "print(\"Сравниваем с нашим Вектор-столбцом\\n\", check)\n"
   ]
  },
  {
   "attachments": {},
   "cell_type": "markdown",
   "metadata": {},
   "source": [
    "4. Вычислить интеграл"
   ]
  },
  {
   "cell_type": "code",
   "execution_count": 96,
   "metadata": {},
   "outputs": [
    {
     "data": {
      "text/plain": [
       "(1.0471975511965976, 1.4106733152539924e-14)"
      ]
     },
     "execution_count": 96,
     "metadata": {},
     "output_type": "execute_result"
    }
   ],
   "source": [
    "integrate.quad(lambda x: 1/math.sqrt(1-pow(x,2)), -0.5, 0.5)"
   ]
  },
  {
   "attachments": {},
   "cell_type": "markdown",
   "metadata": {},
   "source": [
    "5. Вычислить интеграл"
   ]
  },
  {
   "cell_type": "code",
   "execution_count": 97,
   "metadata": {},
   "outputs": [
    {
     "name": "stderr",
     "output_type": "stream",
     "text": [
      "C:\\Users\\Солнышко\\AppData\\Local\\Temp\\ipykernel_9392\\1993177829.py:1: IntegrationWarning: The integral is probably divergent, or slowly convergent.\n",
      "  integrate.quad(lambda x: math.cos(2*x), 0, np.inf)\n"
     ]
    },
    {
     "data": {
      "text/plain": [
       "(-591.123779986244, 1044.0550404239398)"
      ]
     },
     "execution_count": 97,
     "metadata": {},
     "output_type": "execute_result"
    }
   ],
   "source": [
    "integrate.quad(lambda x: math.cos(2*x), 0, np.inf)"
   ]
  },
  {
   "attachments": {},
   "cell_type": "markdown",
   "metadata": {},
   "source": [
    "6. График"
   ]
  },
  {
   "cell_type": "code",
   "execution_count": 99,
   "metadata": {},
   "outputs": [
    {
     "data": {
      "text/plain": [
       "<matplotlib.legend.Legend at 0x2139fe171d0>"
      ]
     },
     "execution_count": 99,
     "metadata": {},
     "output_type": "execute_result"
    },
    {
     "data": {
      "image/png": "[encoded data removed]",
      "text/plain": [
       "<Figure size 640x400 with 1 Axes>"
      ]
     },
     "metadata": {},
     "output_type": "display_data"
    }
   ],
   "source": [
    "plt.figure(figsize=(8, 5), dpi=80)\n",
    "ax = plt.subplot(111)\n",
    "\n",
    "ax.xaxis.set_ticks_position('bottom')\n",
    "ax.spines['bottom'].set_position(('data', 0))\n",
    "ax.yaxis.set_ticks_position('left')\n",
    "ax.spines['left'].set_position(('data', 0))\n",
    "\n",
    "X = np.linspace(-2*np.pi, 2*np.pi, 256, endpoint=True)\n",
    "C, L = np.sin(X+np.pi/3), 2*X\n",
    "\n",
    "plt.grid(True)\n",
    "\n",
    "plt.plot(X, C, color=\"blue\", linewidth=2.5, linestyle=\"-\", label=\"Cos Function\")\n",
    "plt.plot(X, L, color=\"red\", linewidth=2.5, linestyle=\"-\", label=\"Lin Function\")\n",
    "plt.xlim(X.min() * 1.1, X.max() * 1.1)\n",
    "\n",
    "# Изменить метку на оси координат\n",
    "plt.xticks([-2*np.pi, -3*np.pi / 2, -np.pi, -np.pi / 2, 0, np.pi / 2, np.pi, 3*np.pi / 2, 2*np.pi ],\n",
    "           [r'$-2\\pi$', r'$-3\\pi/2$', r'$-\\pi$', r'$-\\pi/2$', r'$0$', r'$+\\pi/2$', r'$+\\pi$', r'$+3 \\pi/2$', r'$+ 2\\pi$' ])\n",
    "\n",
    "plt.ylim(C.min() * 1.1, C.max() * 1.1)\n",
    "plt.yticks([-2, -1, +1, +2],\n",
    "           [r'$-2$', r'$-1$', r'$+1$', r'$+2$'])\n",
    "\n",
    "#добавляем точку\n",
    "ax.scatter(x=0.5, y=1, c='black')\n",
    "\n",
    "plt.legend(loc='upper left', frameon=False)"
   ]
  }
 ],
 "metadata": {
  "kernelspec": {
   "display_name": "Python 3",
   "language": "python",
   "name": "python3"
  },
  "language_info": {
   "codemirror_mode": {
    "name": "ipython",
    "version": 3
   },
   "file_extension": ".py",
   "mimetype": "text/x-python",
   "name": "python",
   "nbconvert_exporter": "python",
   "pygments_lexer": "ipython3",
   "version": "3.11.1 (tags/v3.11.1:a7a450f, Dec  6 2022, 19:58:39) [MSC v.1934 64 bit (AMD64)]"
  },
  "orig_nbformat": 4,
  "vscode": {
   "interpreter": {
    "hash": "4fe73f8a19050d6697729305b1c1f8aba98f1e3e59fb386fbde75365242656dd"
   }
  }
 },
 "nbformat": 4,
 "nbformat_minor": 2
}
